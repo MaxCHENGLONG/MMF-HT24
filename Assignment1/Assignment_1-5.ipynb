{
 "cells": [
  {
   "cell_type": "markdown",
   "metadata": {},
   "source": [
    "match_id      player_name <br>\n",
    "3906389 , Zecira Musovic\t<br>\n",
    "3904628\t, Zecira Musovic  <br>\n",
    "3893814 , Zecira Musovic\t<br>\n",
    "3901797 , Zecira Musovic <br>\n",
    "3902239 , Zecira Musovic <br>\n",
    "3893830 , Jennifer Miley Falk <br>\n",
    "3893796, Zecira Musovic\t\t<br>\n",
    "\n",
    "\n",
    "player_id = 62713, Zecira Musovic <br>\n",
    "player_id = 62667, Jennifer Miley Falk <br>"
   ]
  },
  {
   "cell_type": "code",
   "execution_count": 9,
   "metadata": {},
   "outputs": [
    {
     "name": "stderr",
     "output_type": "stream",
     "text": [
      "/Users/max/anaconda3/envs/fbpy39/lib/python3.9/site-packages/statsbombpy/api_client.py:21: NoAuthWarning: credentials were not supplied. open data access only\n",
      "  warnings.warn(\n"
     ]
    }
   ],
   "source": [
    "from statsbombpy import sb\n",
    "import pandas as pd\n",
    "\n",
    "# 获取特定比赛的事件数据\n",
    "match_id = 3906389  # 这里应替换为具体的比赛ID\n",
    "events_3906389 = sb.events(match_id=match_id)\n",
    "#events_3906389\n",
    "# 提取射门事件\n",
    "shots_3906389 = events_3906389[(events_3906389['type'] == 'Shot') & (events_3906389['team'] == \"Australia Women's\")].copy()\n",
    "\n",
    "# 选择和重命名必要的列\n",
    "shots_3906389 = shots_3906389[['location', 'shot_statsbomb_xg', 'shot_outcome']]\n",
    "shots_3906389['x'] = shots_3906389['location'].apply(lambda loc: loc[0])\n",
    "shots_3906389['y'] = shots_3906389['location'].apply(lambda loc: loc[1])\n",
    "shots_3906389['xG'] = shots_3906389['shot_statsbomb_xg']\n",
    "shots_3906389['outcome'] = shots_3906389['shot_outcome'].apply(lambda x: 'saved' if x != 'Goal' else 'goal')\n",
    "\n",
    "# 删除不再需要的列\n",
    "shots_3906389.drop(columns=['location', 'shot_statsbomb_xg', 'shot_outcome'], inplace=True)\n"
   ]
  },
  {
   "cell_type": "code",
   "execution_count": 49,
   "metadata": {},
   "outputs": [
    {
     "name": "stdout",
     "output_type": "stream",
     "text": [
      "0.7433371977000002\n"
     ]
    }
   ],
   "source": [
    "shots_3906389\n",
    "Aus_shots_xG = shots_3906389['xG'].sum()\n",
    "print(Aus_shots_xG)"
   ]
  },
  {
   "cell_type": "code",
   "execution_count": 16,
   "metadata": {},
   "outputs": [
    {
     "name": "stderr",
     "output_type": "stream",
     "text": [
      "/Users/max/anaconda3/envs/fbpy39/lib/python3.9/site-packages/statsbombpy/api_client.py:21: NoAuthWarning: credentials were not supplied. open data access only\n",
      "  warnings.warn(\n"
     ]
    }
   ],
   "source": [
    "from statsbombpy import sb\n",
    "import pandas as pd\n",
    "\n",
    "# 获取特定比赛的事件数据\n",
    "match_id = 3904628  # 这里应替换为具体的比赛ID\n",
    "events_3904628 = sb.events(match_id=match_id)\n",
    "shots_3904628 = events_3904628[(events_3904628['type'] == 'Shot') & (events_3904628['team'] == \"Spain Women's\")].copy()\n",
    "\n",
    "# 选择和重命名必要的列\n",
    "shots_3904628 = shots_3904628[['location', 'shot_statsbomb_xg', 'shot_outcome']]\n",
    "shots_3904628['x'] = shots_3904628['location'].apply(lambda loc: loc[0])\n",
    "shots_3904628['y'] = shots_3904628['location'].apply(lambda loc: loc[1])\n",
    "shots_3904628['xG'] = shots_3904628['shot_statsbomb_xg']\n",
    "shots_3904628['outcome'] = shots_3904628['shot_outcome'].apply(lambda x: 'saved' if x != 'Goal' else 'goal')\n",
    "\n",
    "# 删除不再需要的列\n",
    "shots_3904628.drop(columns=['location', 'shot_statsbomb_xg', 'shot_outcome'], inplace=True)"
   ]
  },
  {
   "cell_type": "code",
   "execution_count": 17,
   "metadata": {},
   "outputs": [
    {
     "data": {
      "text/html": [
       "<div>\n",
       "<style scoped>\n",
       "    .dataframe tbody tr th:only-of-type {\n",
       "        vertical-align: middle;\n",
       "    }\n",
       "\n",
       "    .dataframe tbody tr th {\n",
       "        vertical-align: top;\n",
       "    }\n",
       "\n",
       "    .dataframe thead th {\n",
       "        text-align: right;\n",
       "    }\n",
       "</style>\n",
       "<table border=\"1\" class=\"dataframe\">\n",
       "  <thead>\n",
       "    <tr style=\"text-align: right;\">\n",
       "      <th></th>\n",
       "      <th>x</th>\n",
       "      <th>y</th>\n",
       "      <th>xG</th>\n",
       "      <th>outcome</th>\n",
       "    </tr>\n",
       "  </thead>\n",
       "  <tbody>\n",
       "    <tr>\n",
       "      <th>3439</th>\n",
       "      <td>94.0</td>\n",
       "      <td>31.8</td>\n",
       "      <td>0.031136</td>\n",
       "      <td>saved</td>\n",
       "    </tr>\n",
       "    <tr>\n",
       "      <th>3440</th>\n",
       "      <td>93.5</td>\n",
       "      <td>22.7</td>\n",
       "      <td>0.010925</td>\n",
       "      <td>saved</td>\n",
       "    </tr>\n",
       "    <tr>\n",
       "      <th>3441</th>\n",
       "      <td>101.9</td>\n",
       "      <td>37.6</td>\n",
       "      <td>0.067997</td>\n",
       "      <td>saved</td>\n",
       "    </tr>\n",
       "    <tr>\n",
       "      <th>3445</th>\n",
       "      <td>109.1</td>\n",
       "      <td>32.6</td>\n",
       "      <td>0.049300</td>\n",
       "      <td>saved</td>\n",
       "    </tr>\n",
       "    <tr>\n",
       "      <th>3446</th>\n",
       "      <td>109.1</td>\n",
       "      <td>44.6</td>\n",
       "      <td>0.100806</td>\n",
       "      <td>saved</td>\n",
       "    </tr>\n",
       "    <tr>\n",
       "      <th>3447</th>\n",
       "      <td>97.4</td>\n",
       "      <td>31.8</td>\n",
       "      <td>0.078508</td>\n",
       "      <td>saved</td>\n",
       "    </tr>\n",
       "    <tr>\n",
       "      <th>3448</th>\n",
       "      <td>113.6</td>\n",
       "      <td>40.0</td>\n",
       "      <td>0.278503</td>\n",
       "      <td>saved</td>\n",
       "    </tr>\n",
       "    <tr>\n",
       "      <th>3449</th>\n",
       "      <td>115.5</td>\n",
       "      <td>34.8</td>\n",
       "      <td>0.465430</td>\n",
       "      <td>saved</td>\n",
       "    </tr>\n",
       "    <tr>\n",
       "      <th>3450</th>\n",
       "      <td>102.3</td>\n",
       "      <td>59.0</td>\n",
       "      <td>0.009444</td>\n",
       "      <td>saved</td>\n",
       "    </tr>\n",
       "    <tr>\n",
       "      <th>3451</th>\n",
       "      <td>109.5</td>\n",
       "      <td>38.1</td>\n",
       "      <td>0.093986</td>\n",
       "      <td>saved</td>\n",
       "    </tr>\n",
       "    <tr>\n",
       "      <th>3453</th>\n",
       "      <td>105.7</td>\n",
       "      <td>30.3</td>\n",
       "      <td>0.069167</td>\n",
       "      <td>saved</td>\n",
       "    </tr>\n",
       "    <tr>\n",
       "      <th>3454</th>\n",
       "      <td>109.3</td>\n",
       "      <td>37.2</td>\n",
       "      <td>0.089531</td>\n",
       "      <td>goal</td>\n",
       "    </tr>\n",
       "    <tr>\n",
       "      <th>3457</th>\n",
       "      <td>101.3</td>\n",
       "      <td>26.8</td>\n",
       "      <td>0.031223</td>\n",
       "      <td>goal</td>\n",
       "    </tr>\n",
       "  </tbody>\n",
       "</table>\n",
       "</div>"
      ],
      "text/plain": [
       "          x     y        xG outcome\n",
       "3439   94.0  31.8  0.031136   saved\n",
       "3440   93.5  22.7  0.010925   saved\n",
       "3441  101.9  37.6  0.067997   saved\n",
       "3445  109.1  32.6  0.049300   saved\n",
       "3446  109.1  44.6  0.100806   saved\n",
       "3447   97.4  31.8  0.078508   saved\n",
       "3448  113.6  40.0  0.278503   saved\n",
       "3449  115.5  34.8  0.465430   saved\n",
       "3450  102.3  59.0  0.009444   saved\n",
       "3451  109.5  38.1  0.093986   saved\n",
       "3453  105.7  30.3  0.069167   saved\n",
       "3454  109.3  37.2  0.089531    goal\n",
       "3457  101.3  26.8  0.031223    goal"
      ]
     },
     "execution_count": 17,
     "metadata": {},
     "output_type": "execute_result"
    }
   ],
   "source": [
    "shots_3904628"
   ]
  },
  {
   "cell_type": "code",
   "execution_count": 20,
   "metadata": {},
   "outputs": [
    {
     "name": "stdout",
     "output_type": "stream",
     "text": [
      "          x     y        xG outcome\n",
      "3477  107.2  56.9  0.037321   saved\n",
      "3478   92.4  37.7  0.021474   saved\n",
      "3479   90.9  48.5  0.022601   saved\n",
      "3480  109.5  48.0  0.061896   saved\n",
      "3481  106.3  59.6  0.009897   saved\n",
      "3482  117.3  49.3  0.043720   saved\n",
      "3491  110.5  35.4  0.164021   saved\n",
      "3501  104.4  59.1  0.010411   saved\n",
      "3503  108.7  41.0  0.057300   saved\n",
      "3504  107.1  47.2  0.079996   saved\n",
      "3506  110.5  45.8  0.099797   saved\n",
      "3508  112.4  34.8  0.073973   saved\n"
     ]
    },
    {
     "name": "stderr",
     "output_type": "stream",
     "text": [
      "/Users/max/anaconda3/envs/fbpy39/lib/python3.9/site-packages/statsbombpy/api_client.py:21: NoAuthWarning: credentials were not supplied. open data access only\n",
      "  warnings.warn(\n"
     ]
    }
   ],
   "source": [
    "from statsbombpy import sb\n",
    "import pandas as pd\n",
    "\n",
    "# 获取特定比赛的事件数据\n",
    "match_id = 3893814  # 更新为新的比赛ID\n",
    "events_3893814 = sb.events(match_id=match_id)  # 更新变量名以匹配新的比赛ID\n",
    "shots_3893814 = events_3893814[(events_3893814['type'] == 'Shot') & (events_3893814['team'] == \"Italy Women's\")].copy()\n",
    "# 选择和重命名必要的列\n",
    "shots_3893814 = shots_3893814[['location', 'shot_statsbomb_xg', 'shot_outcome']]\n",
    "shots_3893814['x'] = shots_3893814['location'].apply(lambda loc: loc[0])\n",
    "shots_3893814['y'] = shots_3893814['location'].apply(lambda loc: loc[1])\n",
    "shots_3893814['xG'] = shots_3893814['shot_statsbomb_xg']\n",
    "shots_3893814['outcome'] = shots_3893814['shot_outcome'].apply(lambda x: 'saved' if x != 'Goal' else 'goal')\n",
    "\n",
    "# 删除不再需要的列\n",
    "shots_3893814.drop(columns=['location', 'shot_statsbomb_xg', 'shot_outcome'], inplace=True)\n",
    "\n",
    "# 显示数据以确认更改\n",
    "print(shots_3893814)\n"
   ]
  },
  {
   "cell_type": "code",
   "execution_count": 22,
   "metadata": {},
   "outputs": [
    {
     "name": "stdout",
     "output_type": "stream",
     "text": [
      "          x     y        xG outcome\n",
      "4247   97.6  40.4  0.040931   saved\n",
      "4248   98.3  46.7  0.041190   saved\n",
      "4250  107.9  54.5  0.049669   saved\n",
      "4251   98.5  50.1  0.043536   saved\n",
      "4253  112.5  40.9  0.085263   saved\n",
      "4254  108.5  32.9  0.054431   saved\n",
      "4255  107.1  32.3  0.086003   saved\n",
      "4256  110.3  31.5  0.073823   saved\n",
      "4257  103.6  55.8  0.029345   saved\n",
      "4259  108.1  55.7  0.028281   saved\n",
      "4260   95.7  53.2  0.024257   saved\n",
      "4261   97.9  41.1  0.068166   saved\n",
      "4266  113.3  37.6  0.139461   saved\n",
      "4267  110.9  39.9  0.074616   saved\n",
      "4270  111.5  26.7  0.040086   saved\n",
      "4271  101.5  16.6  0.007114   saved\n",
      "4272  108.1  52.7  0.107651   saved\n",
      "4273  112.1  32.7  0.098673   saved\n",
      "4274  113.5  52.5  0.058458   saved\n",
      "4275  107.6  49.4  0.049954   saved\n",
      "4276   98.5  38.7  0.044459   saved\n",
      "4277  105.1  40.6  0.085980   saved\n",
      "4278  108.1  40.1  0.783500    goal\n",
      "4280  108.1  40.1  0.783500    goal\n",
      "4282  108.1  40.1  0.783500    goal\n",
      "4284  108.1  40.1  0.783500   saved\n",
      "4286  108.1  40.1  0.783500   saved\n",
      "4288  108.1  40.1  0.783500    goal\n",
      "4290  108.1  40.1  0.783500   saved\n"
     ]
    },
    {
     "name": "stderr",
     "output_type": "stream",
     "text": [
      "/Users/max/anaconda3/envs/fbpy39/lib/python3.9/site-packages/statsbombpy/api_client.py:21: NoAuthWarning: credentials were not supplied. open data access only\n",
      "  warnings.warn(\n"
     ]
    }
   ],
   "source": [
    "from statsbombpy import sb\n",
    "import pandas as pd\n",
    "\n",
    "# 获取特定比赛的事件数据\n",
    "match_id = 3901797  # 更新为新的比赛ID\n",
    "events_3901797 = sb.events(match_id=match_id)  # 更新变量名以匹配新的比赛ID\n",
    "shots_3901797 = events_3901797[(events_3901797['type'] == 'Shot') & (events_3901797['team'] == \"United States Women's\")].copy()\n",
    "\n",
    "# 选择和重命名必要的列\n",
    "shots_3901797 = shots_3901797[['location', 'shot_statsbomb_xg', 'shot_outcome']]\n",
    "shots_3901797['x'] = shots_3901797['location'].apply(lambda loc: loc[0])\n",
    "shots_3901797['y'] = shots_3901797['location'].apply(lambda loc: loc[1])\n",
    "shots_3901797['xG'] = shots_3901797['shot_statsbomb_xg']\n",
    "shots_3901797['outcome'] = shots_3901797['shot_outcome'].apply(lambda x: 'saved' if x != 'Goal' else 'goal')\n",
    "\n",
    "# 删除不再需要的列\n",
    "shots_3901797.drop(columns=['location', 'shot_statsbomb_xg', 'shot_outcome'], inplace=True)\n",
    "\n",
    "# 显示数据以确认更改\n",
    "print(shots_3901797)\n"
   ]
  },
  {
   "cell_type": "code",
   "execution_count": 24,
   "metadata": {},
   "outputs": [
    {
     "name": "stdout",
     "output_type": "stream",
     "text": [
      "          x     y        xG outcome\n",
      "3923  113.6  53.6  0.033890   saved\n",
      "3924  107.4  50.4  0.079466   saved\n",
      "3925  108.3  29.7  0.122983   saved\n",
      "3926  106.1  50.8  0.063448   saved\n",
      "3927   99.2  34.5  0.043736   saved\n",
      "3928  108.1  40.1  0.783500   saved\n",
      "3930   95.6  37.4  0.069669   saved\n",
      "3931  112.2  38.0  0.388282    goal\n",
      "3932  113.2  48.6  0.067684   saved\n",
      "3933  106.2  26.4  0.071455   saved\n",
      "3934   93.9  52.0  0.014191   saved\n"
     ]
    },
    {
     "name": "stderr",
     "output_type": "stream",
     "text": [
      "/Users/max/anaconda3/envs/fbpy39/lib/python3.9/site-packages/statsbombpy/api_client.py:21: NoAuthWarning: credentials were not supplied. open data access only\n",
      "  warnings.warn(\n"
     ]
    }
   ],
   "source": [
    "from statsbombpy import sb\n",
    "import pandas as pd\n",
    "\n",
    "# 获取特定比赛的事件数据\n",
    "match_id = 3902239  # 更新为新的比赛ID\n",
    "events_3902239 = sb.events(match_id=match_id)  # 更新变量名以匹配新的比赛ID\n",
    "#events_3902239\n",
    "shots_3902239 = events_3902239[(events_3902239['type'] == 'Shot') & (events_3902239['team'] == \"Japan Women's\")].copy()\n",
    "\n",
    "# 选择和重命名必要的列\n",
    "shots_3902239 = shots_3902239[['location', 'shot_statsbomb_xg', 'shot_outcome']]\n",
    "shots_3902239['x'] = shots_3902239['location'].apply(lambda loc: loc[0])\n",
    "shots_3902239['y'] = shots_3902239['location'].apply(lambda loc: loc[1])\n",
    "shots_3902239['xG'] = shots_3902239['shot_statsbomb_xg']\n",
    "shots_3902239['outcome'] = shots_3902239['shot_outcome'].apply(lambda x: 'saved' if x != 'Goal' else 'goal')\n",
    "\n",
    "# 删除不再需要的列\n",
    "shots_3902239.drop(columns=['location', 'shot_statsbomb_xg', 'shot_outcome'], inplace=True)\n",
    "\n",
    "# 显示数据以确认更改\n",
    "print(shots_3902239)\n"
   ]
  },
  {
   "cell_type": "code",
   "execution_count": 26,
   "metadata": {},
   "outputs": [
    {
     "name": "stdout",
     "output_type": "stream",
     "text": [
      "          x     y        xG outcome\n",
      "3095  112.3  25.0  0.032486   saved\n",
      "3096   76.6  53.4  0.007656   saved\n",
      "3099  103.3  27.1  0.064571   saved\n",
      "3100   96.4  25.8  0.019329   saved\n",
      "3105   92.6  48.1  0.037923   saved\n",
      "3106  113.4  28.2  0.067578   saved\n",
      "3107  117.4  43.0  0.704797    goal\n",
      "3116   86.9  43.3  0.018721   saved\n",
      "3117  103.1  33.7  0.044685   saved\n",
      "3118  108.5  43.4  0.038958   saved\n"
     ]
    },
    {
     "name": "stderr",
     "output_type": "stream",
     "text": [
      "/Users/max/anaconda3/envs/fbpy39/lib/python3.9/site-packages/statsbombpy/api_client.py:21: NoAuthWarning: credentials were not supplied. open data access only\n",
      "  warnings.warn(\n"
     ]
    }
   ],
   "source": [
    "from statsbombpy import sb\n",
    "import pandas as pd\n",
    "\n",
    "# 获取特定比赛的事件数据\n",
    "match_id = 3893796  # 更新为新的比赛ID\n",
    "events_3893796 = sb.events(match_id=match_id)  # 更新变量名以匹配新的比赛ID\n",
    "shots_3893796 = events_3893796[(events_3893796['type'] == 'Shot') & (events_3893796['team'] == \"South Africa Women's\")].copy()\n",
    "\n",
    "# 选择和重命名必要的列\n",
    "shots_3893796 = shots_3893796[['location', 'shot_statsbomb_xg', 'shot_outcome']]\n",
    "shots_3893796['x'] = shots_3893796['location'].apply(lambda loc: loc[0])\n",
    "shots_3893796['y'] = shots_3893796['location'].apply(lambda loc: loc[1])\n",
    "shots_3893796['xG'] = shots_3893796['shot_statsbomb_xg']\n",
    "shots_3893796['outcome'] = shots_3893796['shot_outcome'].apply(lambda x: 'saved' if x != 'Goal' else 'goal')\n",
    "\n",
    "# 删除不再需要的列\n",
    "shots_3893796.drop(columns=['location', 'shot_statsbomb_xg', 'shot_outcome'], inplace=True)\n",
    "\n",
    "# 显示数据以确认更改\n",
    "print(shots_3893796)\n"
   ]
  },
  {
   "cell_type": "code",
   "execution_count": 28,
   "metadata": {},
   "outputs": [],
   "source": [
    "# Assuming shots_3904628, shots_3893814, shots_3901797, shots_3902239, shots_3893796 are your DataFrame variables\n",
    "# Place them inside a list\n",
    "all_shots_list = [shots_3904628, shots_3904628, shots_3893814, shots_3901797, shots_3902239, shots_3893796]\n",
    "\n",
    "# Use pd.concat to merge them into one DataFrame\n",
    "combined_shots = pd.concat(all_shots_list, ignore_index=True)\n",
    "\n",
    "# Assign the merged DataFrame to another variable if needed\n",
    "swe_d_shot = combined_shots\n"
   ]
  },
  {
   "cell_type": "code",
   "execution_count": 29,
   "metadata": {},
   "outputs": [
    {
     "data": {
      "text/html": [
       "<div>\n",
       "<style scoped>\n",
       "    .dataframe tbody tr th:only-of-type {\n",
       "        vertical-align: middle;\n",
       "    }\n",
       "\n",
       "    .dataframe tbody tr th {\n",
       "        vertical-align: top;\n",
       "    }\n",
       "\n",
       "    .dataframe thead th {\n",
       "        text-align: right;\n",
       "    }\n",
       "</style>\n",
       "<table border=\"1\" class=\"dataframe\">\n",
       "  <thead>\n",
       "    <tr style=\"text-align: right;\">\n",
       "      <th></th>\n",
       "      <th>x</th>\n",
       "      <th>y</th>\n",
       "      <th>xG</th>\n",
       "      <th>outcome</th>\n",
       "    </tr>\n",
       "  </thead>\n",
       "  <tbody>\n",
       "    <tr>\n",
       "      <th>0</th>\n",
       "      <td>94.0</td>\n",
       "      <td>31.8</td>\n",
       "      <td>0.031136</td>\n",
       "      <td>saved</td>\n",
       "    </tr>\n",
       "    <tr>\n",
       "      <th>1</th>\n",
       "      <td>93.5</td>\n",
       "      <td>22.7</td>\n",
       "      <td>0.010925</td>\n",
       "      <td>saved</td>\n",
       "    </tr>\n",
       "    <tr>\n",
       "      <th>2</th>\n",
       "      <td>101.9</td>\n",
       "      <td>37.6</td>\n",
       "      <td>0.067997</td>\n",
       "      <td>saved</td>\n",
       "    </tr>\n",
       "    <tr>\n",
       "      <th>3</th>\n",
       "      <td>109.1</td>\n",
       "      <td>32.6</td>\n",
       "      <td>0.049300</td>\n",
       "      <td>saved</td>\n",
       "    </tr>\n",
       "    <tr>\n",
       "      <th>4</th>\n",
       "      <td>109.1</td>\n",
       "      <td>44.6</td>\n",
       "      <td>0.100806</td>\n",
       "      <td>saved</td>\n",
       "    </tr>\n",
       "    <tr>\n",
       "      <th>...</th>\n",
       "      <td>...</td>\n",
       "      <td>...</td>\n",
       "      <td>...</td>\n",
       "      <td>...</td>\n",
       "    </tr>\n",
       "    <tr>\n",
       "      <th>83</th>\n",
       "      <td>113.4</td>\n",
       "      <td>28.2</td>\n",
       "      <td>0.067578</td>\n",
       "      <td>saved</td>\n",
       "    </tr>\n",
       "    <tr>\n",
       "      <th>84</th>\n",
       "      <td>117.4</td>\n",
       "      <td>43.0</td>\n",
       "      <td>0.704797</td>\n",
       "      <td>goal</td>\n",
       "    </tr>\n",
       "    <tr>\n",
       "      <th>85</th>\n",
       "      <td>86.9</td>\n",
       "      <td>43.3</td>\n",
       "      <td>0.018721</td>\n",
       "      <td>saved</td>\n",
       "    </tr>\n",
       "    <tr>\n",
       "      <th>86</th>\n",
       "      <td>103.1</td>\n",
       "      <td>33.7</td>\n",
       "      <td>0.044685</td>\n",
       "      <td>saved</td>\n",
       "    </tr>\n",
       "    <tr>\n",
       "      <th>87</th>\n",
       "      <td>108.5</td>\n",
       "      <td>43.4</td>\n",
       "      <td>0.038958</td>\n",
       "      <td>saved</td>\n",
       "    </tr>\n",
       "  </tbody>\n",
       "</table>\n",
       "<p>88 rows × 4 columns</p>\n",
       "</div>"
      ],
      "text/plain": [
       "        x     y        xG outcome\n",
       "0    94.0  31.8  0.031136   saved\n",
       "1    93.5  22.7  0.010925   saved\n",
       "2   101.9  37.6  0.067997   saved\n",
       "3   109.1  32.6  0.049300   saved\n",
       "4   109.1  44.6  0.100806   saved\n",
       "..    ...   ...       ...     ...\n",
       "83  113.4  28.2  0.067578   saved\n",
       "84  117.4  43.0  0.704797    goal\n",
       "85   86.9  43.3  0.018721   saved\n",
       "86  103.1  33.7  0.044685   saved\n",
       "87  108.5  43.4  0.038958   saved\n",
       "\n",
       "[88 rows x 4 columns]"
      ]
     },
     "execution_count": 29,
     "metadata": {},
     "output_type": "execute_result"
    }
   ],
   "source": [
    "swe_d_shot"
   ]
  },
  {
   "cell_type": "code",
   "execution_count": 31,
   "metadata": {},
   "outputs": [
    {
     "data": {
      "image/png": "[encoded data removed]",
      "text/plain": [
       "<Figure size 1000x600 with 1 Axes>"
      ]
     },
     "metadata": {},
     "output_type": "display_data"
    }
   ],
   "source": [
    "# 将数据转化为方便处理的格式\n",
    "import matplotlib.pyplot as plt\n",
    "from mplsoccer import Pitch\n",
    "import pandas as pd\n",
    "df = pd.DataFrame(swe_d_shot)\n",
    "\n",
    "# 创建足球场地图\n",
    "pitch = Pitch(pitch_type='statsbomb', pitch_color='white', line_color='black')\n",
    "fig, ax = pitch.draw(figsize=(10, 6))\n",
    "\n",
    "# 绘制射门事件\n",
    "for i, shot in df.iterrows():\n",
    "    color = 'red' if shot['outcome'] == 'saved' else 'green'\n",
    "    size = shot['xG'] * 100  # 调整大小比例因子，以合适的方式显示\n",
    "    pitch.scatter(shot['x'], shot['y'], s=size, color=color, ax=ax, edgecolors='black', alpha=0.75)\n",
    "\n",
    "plt.show()"
   ]
  },
  {
   "cell_type": "code",
   "execution_count": 46,
   "metadata": {},
   "outputs": [
    {
     "data": {
      "image/png": "[encoded data removed]",
      "text/plain": [
       "<Figure size 1103.41x900 with 3 Axes>"
      ]
     },
     "metadata": {},
     "output_type": "display_data"
    }
   ],
   "source": [
    "# # 将数据转化为方便处理的格式\n",
    "# import matplotlib.pyplot as plt\n",
    "# from mplsoccer import Pitch, VerticalPitch\n",
    "# import pandas as pd\n",
    "# df = pd.DataFrame(swe_d_shot)\n",
    "# pitch = VerticalPitch(line_color='black', half = True)\n",
    "# fig, ax = pitch.grid(grid_height=0.9, title_height=0.06, axis=False,\n",
    "#                      endnote_height=0.04, title_space=0, endnote_space=0)\n",
    "# for i, row in df.iterrows():\n",
    "#     color = 'red' if shot['outcome'] == 'saved' else 'green'\n",
    "#     size = df['xG'] * 10000  # 调整大小比例因子，以合适的方式显示\n",
    "#     if row[\"outcome\"] == 'goal':\n",
    "#     #make circle\n",
    "#        pitch.scatter(row.x, row.y, alpha = 1, s = size, color = \"red\", ax=ax['pitch'])\n",
    "#     else:\n",
    "#        pitch.scatter(row.x, row.y, alpha = 0.2, s = size, color = \"blue\", ax=ax['pitch'])\n",
    "\n",
    "# fig.suptitle(\"Sweden Goalkeeper\", fontsize = 30)\n",
    "# plt.show()\n",
    "import matplotlib.pyplot as plt\n",
    "from mplsoccer import VerticalPitch\n",
    "import pandas as pd\n",
    "\n",
    "# Assuming swe_d_shot is a dictionary or another form of data that you've converted into a DataFrame\n",
    "df = pd.DataFrame(swe_d_shot)\n",
    "\n",
    "# Create a vertical half pitch with grid\n",
    "pitch = VerticalPitch(line_color='black', half=True)\n",
    "fig, ax = pitch.grid(grid_height=0.9, title_height=0.06, axis=False,\n",
    "                     endnote_height=0.04, title_space=0, endnote_space=0)\n",
    "\n",
    "# Iterate through the DataFrame rows\n",
    "for index, row in df.iterrows():\n",
    "    # Determine the color based on the outcome\n",
    "    color = 'red' if row['outcome'] == 'goal' else 'blue'\n",
    "    # Determine the size, multiplying xG by a scaling factor\n",
    "    size = row['xG'] * 1000  # Adjust the factor as needed for visibility\n",
    "\n",
    "    # Plot the scatter points on the pitch using the correct axes\n",
    "    pitch.scatter(row['x'], row['y'], s=size, color=color, ax=ax['pitch'],\n",
    "                  alpha=0.5 if row['outcome'] != 'goal' else 1)\n",
    "\n",
    "# Add a title\n",
    "fig.suptitle('Sweden Goalkeeper Defense Map', fontsize=30, color='black')\n",
    "\n",
    "# Show the plot\n",
    "plt.show()\n"
   ]
  },
  {
   "cell_type": "code",
   "execution_count": null,
   "metadata": {},
   "outputs": [],
   "source": []
  }
 ],
 "metadata": {
  "kernelspec": {
   "display_name": "fbpy39",
   "language": "python",
   "name": "python3"
  },
  "language_info": {
   "codemirror_mode": {
    "name": "ipython",
    "version": 3
   },
   "file_extension": ".py",
   "mimetype": "text/x-python",
   "name": "python",
   "nbconvert_exporter": "python",
   "pygments_lexer": "ipython3",
   "version": "3.9.19"
  }
 },
 "nbformat": 4,
 "nbformat_minor": 2
}
